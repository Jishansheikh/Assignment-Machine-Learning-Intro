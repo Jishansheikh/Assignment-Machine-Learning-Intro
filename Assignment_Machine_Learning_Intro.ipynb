{
  "nbformat": 4,
  "nbformat_minor": 0,
  "metadata": {
    "colab": {
      "provenance": []
    },
    "kernelspec": {
      "name": "python3",
      "display_name": "Python 3"
    },
    "language_info": {
      "name": "python"
    }
  },
  "cells": [
    {
      "cell_type": "markdown",
      "source": [
        "### **Question 1: Explain the differences between AI, ML, Deep Learning (DL), and Data Science (DS).**\n",
        "\n",
        "**Answer:**\n",
        "\n",
        "* **Artificial Intelligence (AI)** is the broadest field. It's the concept of creating machines that can think and act like humans. This includes things like problem-solving, speech recognition, and decision-making. Think of it as the ultimate goal.\n",
        "\n",
        "* **Machine Learning (ML)** is a subset of AI. It involves the use of algorithms that learn from data without being explicitly programmed. Instead of hard-coding rules, you give the model data and it learns the patterns itself. For example, a spam filter learns to identify spam by analyzing thousands of emails.\n",
        "\n",
        "* **Deep Learning (DL)** is a more specialized subset of ML. It uses complex algorithms, specifically neural networks with multiple layers (hence \"deep\"), to find intricate patterns in data. DL is particularly effective for tasks like image and speech recognition, where the patterns are too complex for traditional ML.\n",
        "\n",
        "* **Data Science (DS)** is a multidisciplinary field that uses scientific methods, processes, algorithms, and systems to extract knowledge and insights from structured and unstructured data. It combines elements of statistics, computer science, and domain expertise to solve real-world problems. While it uses ML and DL techniques, it also includes aspects like data cleaning, data visualization, and business intelligence.\n",
        "\n"
      ],
      "metadata": {
        "id": "ESmrhUkNRPc4"
      }
    },
    {
      "cell_type": "markdown",
      "source": [
        "### **Question 2: What are the types of machine learning? Describe each with one real-world example.**\n",
        "\n",
        "**Answer:**\n",
        "\n",
        "The three main types of machine learning are:\n",
        "\n",
        "* **Supervised Learning**: This is when an algorithm learns from labeled data, meaning the input data is paired with the correct output. The goal is to learn a mapping from inputs to outputs.\n",
        "\n",
        "  * **Example**: A model trained to predict house prices based on features like size, number of bedrooms, and location. The training data includes past house sales with their actual prices (the labels).\n",
        "\n",
        "* **Unsupervised Learning**: This type of learning involves training an algorithm on unlabeled data. The goal is to find hidden patterns or structures in the data on its own.\n",
        "\n",
        "  * **Example**: Grouping customers into different segments (e.g., \"high-value,\" \"frequent buyers,\" etc.) based on their purchasing behavior without any pre-defined categories. This is called clustering.\n",
        "\n",
        "* **Reinforcement Learning**: This is a type of ML where an agent learns to make decisions in an environment to maximize a reward signal. It learns through a process of trial and error.\n",
        "\n",
        "  * **Example**: An AI playing a game like chess. It learns which moves are good (reward) and which are bad (penalty) by playing against itself or other players, eventually becoming a master.\n"
      ],
      "metadata": {
        "id": "lv4r-vlqRnIz"
      }
    },
    {
      "cell_type": "markdown",
      "source": [
        "### **Question 3: Define overfitting, underfitting, and the bias-variance tradeoff in machine learning.**\n",
        "\n",
        "**Answer:**\n",
        "\n",
        "* **Overfitting**: This happens when a model learns the training data too well, including the noise and random fluctuations. While it performs great on the training data, it performs poorly on new, unseen data because it fails to generalize. It's like memorizing the answers to a test without understanding the concepts.\n",
        "\n",
        "* **Underfitting**: This occurs when a model is too simple to capture the underlying patterns in the training data. It performs poorly on both the training and test data because it has not learned the fundamental relationship between the features and the target. It's like not studying enough for a test.\n",
        "\n",
        "* **Bias-Variance Tradeoff**: This is a central concept in machine learning.\n",
        "\n",
        "  * **Bias** is the simplifying assumptions made by a model to make the target function easier to learn. High bias models are overly simple and tend to underfit.\n",
        "\n",
        "  * **Variance** is the sensitivity of the model to fluctuations in the training data. High variance models are complex and tend to overfit.\n",
        "\n",
        "  * The **tradeoff** is the balance between these two. A good model strikes a balance between bias and variance, avoiding both underfitting and overfitting to achieve optimal performance on new data.\n",
        "\n"
      ],
      "metadata": {
        "id": "OsCemqDlR27I"
      }
    },
    {
      "cell_type": "markdown",
      "source": [
        "### **Question 4: What are outliers in a dataset, and list three common techniques for handling them.**\n",
        "\n",
        "**Answer:**\n",
        "\n",
        "An **outlier** is a data point that is significantly different from other observations in the dataset. They can occur due to measurement errors, data entry mistakes, or they might be genuine, rare events.\n",
        "\n",
        "Three common techniques for handling outliers are:\n",
        "\n",
        "1. **Removal**: The simplest method is to remove the outlier data points entirely. This is often done when the outlier is clearly a data entry error. However, it's not ideal if the outliers represent important information or if the dataset is small.\n",
        "\n",
        "2. **Transformation**: You can apply mathematical transformations to the data to reduce the impact of outliers. Common transformations include the logarithmic transformation or square root transformation, which compress the range of values and can make the data less skewed.\n",
        "\n",
        "3. **Imputation**: Instead of removing outliers, you can replace them with a more representative value, such as the mean, median, or mode of the feature. The median is often a better choice than the mean because it's less sensitive to the extreme value of the outlier itself.\n",
        "\n"
      ],
      "metadata": {
        "id": "1skE56SoSEVZ"
      }
    },
    {
      "cell_type": "markdown",
      "source": [
        "### **Question 5: Explain the process of handling missing values and mention one imputation technique for numerical and one for categorical data.**\n",
        "\n",
        "**Answer:**\n",
        "\n",
        "**Handling missing values** is the process of dealing with \"empty\" data points in a dataset. Missing values can disrupt the performance of machine learning models, so they need to be addressed before training. The process typically involves either removing the data (if there are very few missing values) or, more commonly, imputing them, which means replacing the missing data with a substitute value.\n",
        "\n",
        "* **Imputation technique for numerical data**: A common and simple technique is to replace the missing values with the median of the column. The median is robust to outliers and provides a good central tendency measure for the data.\n",
        "\n",
        "* **Imputation technique for categorical data**: For categorical data, a common technique is to replace missing values with the mode (the most frequent category) of the column. This approach is simple and ensures the imputed value is a valid category."
      ],
      "metadata": {
        "id": "4q-kRKs1SQlS"
      }
    },
    {
      "cell_type": "code",
      "source": [
        "'''Question 6: Write a Python program that:\n",
        "● Creates a synthetic imbalanced dataset with make_classification() from\n",
        "sklearn.datasets.\n",
        "● Prints the class distribution.'''\n",
        "import numpy as np\n",
        "from collections import Counter\n",
        "from sklearn.datasets import make_classification\n",
        "\n",
        "# Create a synthetic imbalanced dataset\n",
        "X, y = make_classification(n_samples=1000,\n",
        "                           n_features=2,\n",
        "                           n_informative=2,\n",
        "                           n_redundant=0,\n",
        "                           n_classes=2,\n",
        "                           n_clusters_per_class=1,\n",
        "                           weights=[0.95],\n",
        "                           flip_y=0,\n",
        "                           random_state=42)\n",
        "\n",
        "# Print the class distribution\n",
        "print(\"Class distribution:\")\n",
        "print(Counter(y))\n"
      ],
      "metadata": {
        "colab": {
          "base_uri": "https://localhost:8080/"
        },
        "id": "JP_T7_PbSd8X",
        "outputId": "29434934-94eb-45dd-f0df-3788693f2c89"
      },
      "execution_count": 1,
      "outputs": [
        {
          "output_type": "stream",
          "name": "stdout",
          "text": [
            "Class distribution:\n",
            "Counter({np.int64(0): 950, np.int64(1): 50})\n"
          ]
        }
      ]
    },
    {
      "cell_type": "code",
      "source": [
        "'''Question 7: Implement one-hot encoding using pandas for the following list of colors:\n",
        "['Red', 'Green', 'Blue', 'Green', 'Red']. Print the resulting dataframe.'''\n",
        "import pandas as pd\n",
        "\n",
        "colors = ['Red', 'Green', 'Blue', 'Green', 'Red']\n",
        "\n",
        "# Create a pandas Series from the list of colors\n",
        "color_series = pd.Series(colors)\n",
        "\n",
        "# Apply one-hot encoding using get_dummies\n",
        "one_hot_encoded_df = pd.get_dummies(color_series, prefix='color')\n",
        "\n",
        "# Print the resulting dataframe\n",
        "print(one_hot_encoded_df)"
      ],
      "metadata": {
        "colab": {
          "base_uri": "https://localhost:8080/"
        },
        "id": "s2RooOuXS6Qw",
        "outputId": "f480c76a-abf8-4ca9-ff20-bab6a3af28b1"
      },
      "execution_count": 2,
      "outputs": [
        {
          "output_type": "stream",
          "name": "stdout",
          "text": [
            "   color_Blue  color_Green  color_Red\n",
            "0       False        False       True\n",
            "1       False         True      False\n",
            "2        True        False      False\n",
            "3       False         True      False\n",
            "4       False        False       True\n"
          ]
        }
      ]
    },
    {
      "cell_type": "code",
      "source": [
        "'''Question 8: Write a Python script to:\n",
        "● Generate 1000 samples from a normal distribution.\n",
        "● Introduce 50 random missing values.\n",
        "● Fill missing values with the column mean.\n",
        "● Plot a histogram before and after imputation.'''\n",
        "import numpy as np\n",
        "import pandas as pd\n",
        "import matplotlib.pyplot as plt\n",
        "\n",
        "data = np.random.normal(loc=0, scale=1, size=1000)\n",
        "df = pd.DataFrame(data, columns=['value'])\n",
        "\n",
        "missing_indices = np.random.choice(df.index, size=50, replace=False)\n",
        "df.loc[missing_indices, 'value'] = np.nan\n",
        "\n",
        "plt.figure(figsize=(12, 5))\n",
        "plt.subplot(1, 2, 1)\n",
        "plt.hist(df['value'].dropna(), bins=30, color='skyblue', edgecolor='black')\n",
        "plt.title('Histogram Before Imputation')\n",
        "plt.xlabel('Value')\n",
        "plt.ylabel('Frequency')\n",
        "\n",
        "mean_value = df['value'].mean()\n",
        "df_imputed = df.fillna(mean_value)\n",
        "\n",
        "plt.subplot(1, 2, 2)\n",
        "plt.hist(df_imputed['value'], bins=30, color='salmon', edgecolor='black')\n",
        "plt.title('Histogram After Imputation')\n",
        "plt.xlabel('Value')\n",
        "plt.ylabel('Frequency')\n",
        "\n",
        "plt.tight_layout()\n",
        "plt.show()\n",
        "\n",
        "# Print a confirmation message\n",
        "print(\"Histograms before and after imputation have been plotted.\")\n",
        "print(f\"Mean value used for imputation: {mean_value:.4f}\")"
      ],
      "metadata": {
        "colab": {
          "base_uri": "https://localhost:8080/",
          "height": 542
        },
        "id": "Kb_q_1_tTKxy",
        "outputId": "f1092800-6753-4484-c945-92568248fa42"
      },
      "execution_count": 3,
      "outputs": [
        {
          "output_type": "display_data",
          "data": {
            "text/plain": [
              "<Figure size 1200x500 with 2 Axes>"
            ],
            "image/png": "[encoded data removed]"
          },
          "metadata": {}
        },
        {
          "output_type": "stream",
          "name": "stdout",
          "text": [
            "Histograms before and after imputation have been plotted.\n",
            "Mean value used for imputation: -0.0212\n"
          ]
        }
      ]
    },
    {
      "cell_type": "code",
      "source": [
        "'''Question 9: Implement Min-Max scaling on the following list of numbers [2, 5, 10, 15,\n",
        "20] using sklearn.preprocessing.MinMaxScaler. Print the scaled array'''\n",
        "import numpy as np\n",
        "from sklearn.preprocessing import MinMaxScaler\n",
        "\n",
        "# The list of numbers\n",
        "data = np.array([2, 5, 10, 15, 28]).reshape(-1, 1)\n",
        "\n",
        "# Create an instance of MinMaxScaler\n",
        "scaler = MinMaxScaler()\n",
        "\n",
        "# Fit the scaler to the data and transform it\n",
        "scaled_data = scaler.fit_transform(data)\n",
        "\n",
        "# Print the scaled array\n",
        "print(\"Original data:\", data.flatten())\n",
        "print(\"Scaled data:\")\n",
        "print(scaled_data)"
      ],
      "metadata": {
        "colab": {
          "base_uri": "https://localhost:8080/"
        },
        "id": "neta9JEvTdd5",
        "outputId": "04744533-9b8b-4e41-946c-74412df09e1d"
      },
      "execution_count": 4,
      "outputs": [
        {
          "output_type": "stream",
          "name": "stdout",
          "text": [
            "Original data: [ 2  5 10 15 28]\n",
            "Scaled data:\n",
            "[[0.        ]\n",
            " [0.11538462]\n",
            " [0.30769231]\n",
            " [0.5       ]\n",
            " [1.        ]]\n"
          ]
        }
      ]
    },
    {
      "cell_type": "markdown",
      "source": [],
      "metadata": {
        "id": "zJC7KnWvRWdg"
      }
    },
    {
      "cell_type": "code",
      "execution_count": 5,
      "metadata": {
        "id": "GvSNlF5KRF6u"
      },
      "outputs": [],
      "source": [
        "'''Question 10: You are working as a data scientist for a retail company. You receive a customer\n",
        "transaction dataset that contains:\n",
        "● Missing ages,\n",
        "● Outliers in transaction amount,\n",
        "● A highly imbalanced target (fraud vs. non-fraud),\n",
        "● Categorical variables like payment method.\n",
        "Explain the step-by-step data preparation plan you’d follow before training a machine learning\n",
        "model. Include how you’d address missing data, outliers, imbalance, and encoding.'''\n",
        "\n",
        "#Answer\n",
        "'''The step-by-step data preparation plan for the given retail dataset would involve addressing missing data, outliers, class imbalance, and categorical variables in a logical sequence before training a machine learning model.\n",
        "\n",
        "**1. Handling Missing Data (Missing Ages)**\n",
        "\n",
        "First, I'd address the missing values in the 'age' column. Since age is a numerical variable, a common and robust approach is to replace the missing values with the median. The median is a better choice than the mean because it's less sensitive to potential outliers in the age data, ensuring the imputed value doesn't skew the overall distribution.\n",
        "\n",
        "**2. Handling Outliers (Transaction Amount)**\n",
        "\n",
        "Next, I'd handle the outliers in the 'transaction amount'. I would first visualize the data to understand the nature of these outliers. If they are genuine but extreme values, a logarithmic transformation is an effective way to compress the range of values and reduce the impact of these large transactions on the model without discarding the data. This transformation makes the data distribution more normal-like. If the outliers are clear data entry errors, I would cap them at a reasonable percentile (e.g., the 99th percentile) or remove them if they are few.\n",
        "\n",
        "**3. Encoding Categorical Variables (Payment Method)**\n",
        "\n",
        "I would then convert the categorical variable 'payment method' into a numerical format that machine learning models can understand. The best technique for this is one-hot encoding. This creates new binary columns for each unique category (e.g., one for 'Credit Card', one for 'Debit Card'), where a '1' indicates the presence of that category and a '0' indicates its absence. This avoids creating an artificial ordinal relationship between the categories.\n",
        "\n",
        "**4. Handling Class Imbalance (Fraud vs. Non-Fraud)**\n",
        "\n",
        "The dataset has a highly imbalanced target variable. I would use Oversampling on the minority class (fraud). A powerful technique for this is SMOTE (Synthetic Minority Over-sampling Technique). SMOTE generates synthetic examples of the minority class, helping to balance the class distribution. This is critical for preventing the model from being biased towards the majority class and ensuring it can effectively detect rare fraudulent transactions.\n",
        "\n",
        "**5. Feature Scaling**\n",
        "\n",
        "Finally, after all the above steps, I would perform feature scaling on the numerical features like 'age' and 'transaction amount' (after the transformation). This step is important for many machine learning algorithms that are sensitive to the scale of input features. I would use Min-Max Scaling to transform the features to a common range (typically 0 to 1), ensuring that no single feature dominates the learning process due to its larger magnitude.'''\n",
        "\n",
        "from sklearn.compose import ColumnTransformer\n",
        "from sklearn.preprocessing import OneHotEncoder, RobustScaler, FunctionTransformer\n",
        "from sklearn.impute import SimpleImputer\n",
        "from sklearn.experimental import enable_iterative_imputer\n",
        "from sklearn.impute import IterativeImputer\n",
        "from sklearn.pipeline import Pipeline\n",
        "from imblearn.pipeline import Pipeline as ImbPipeline\n",
        "from imblearn.over_sampling import SMOTENC\n",
        "from xgboost import XGBClassifier\n",
        "\n",
        "num = [\"amount_log\", \"tenure_days\", \"age\"]\n",
        "cat_low = [\"payment_method\", \"channel\"]\n",
        "cat_high = [\"merchant_id\"]\n",
        "\n",
        "pre_num = Pipeline([\n",
        "    (\"impute\", IterativeImputer(sample_posterior=True, random_state=42)),\n",
        "    (\"scale\", RobustScaler())\n",
        "])\n",
        "\n",
        "pre_cat_low = Pipeline([\n",
        "    (\"impute\", SimpleImputer(strategy=\"most_frequent\")),\n",
        "    (\"onehot\", OneHotEncoder(handle_unknown=\"ignore\", min_frequency=0.01))\n",
        "])\n",
        "\n",
        "\n",
        "pre = ColumnTransformer([\n",
        "    (\"num\", pre_num, num),\n",
        "    (\"cat_low\", pre_cat_low, cat_low),\n",
        "], remainder=\"drop\")\n",
        "\n",
        "model = XGBClassifier(\n",
        "    n_estimators=500,\n",
        "    max_depth=6,\n",
        "    learning_rate=0.05,\n",
        "    subsample=0.8,\n",
        "    colsample_bytree=0.8,\n",
        "    scale_pos_weight=\"auto\",\n",
        "    eval_metric=\"aucpr\",\n",
        "    tree_method=\"hist\",\n",
        "    random_state=42\n",
        ")\n",
        "\n",
        "pipe = ImbPipeline([\n",
        "\n",
        "    (\"prep\", pre),\n",
        "    (\"clf\", model)\n",
        "])\n"
      ]
    },
    {
      "cell_type": "code",
      "source": [],
      "metadata": {
        "id": "4EYzr9UVUdQX"
      },
      "execution_count": null,
      "outputs": []
    }
  ]
}